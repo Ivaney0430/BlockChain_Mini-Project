{
  "cells": [
    {
      "cell_type": "markdown",
      "metadata": {
        "id": "XvOnucTTjFmf"
      },
      "source": [
        "### Libraries"
      ]
    },
    {
      "cell_type": "code",
      "execution_count": null,
      "metadata": {},
      "outputs": [],
      "source": [
        "！ pip install -r requirements.txt"
      ]
    },
    {
      "cell_type": "code",
      "execution_count": 6,
      "metadata": {
        "id": "Vk2tt5AwjFmh"
      },
      "outputs": [],
      "source": [
        "# add all used libraries here\n",
        "from cryptography.hazmat.primitives.asymmetric import rsa\n",
        "from cryptography.hazmat.primitives import serialization, hashes\n",
        "from cryptography.hazmat.primitives.asymmetric import padding\n",
        "import hashlib\n",
        "import json\n",
        "import time\n",
        "import random"
      ]
    },
    {
      "cell_type": "markdown",
      "metadata": {
        "id": "zQp6mU3djFmj"
      },
      "source": [
        "### 4.1 Transaction Generation"
      ]
    },
    {
      "cell_type": "code",
      "execution_count": 7,
      "metadata": {
        "id": "4a_ktLaDjFmj"
      },
      "outputs": [],
      "source": [
        "#create a blockchain account\n",
        "def create_account():\n",
        "    private_key = rsa.generate_private_key(public_exponent=65537, key_size=2048)\n",
        "    public_key = private_key.public_key()\n",
        "    #generate private key and public key with RAS\n",
        "\n",
        "    #serialize private key and public key to PEM format\n",
        "    private_pem = private_key.private_bytes(\n",
        "        encoding=serialization.Encoding.PEM,\n",
        "        format=serialization.PrivateFormat.TraditionalOpenSSL,\n",
        "        encryption_algorithm=serialization.NoEncryption()\n",
        "    )\n",
        "\n",
        "    public_pem = public_key.public_bytes(\n",
        "        encoding=serialization.Encoding.PEM,\n",
        "        format=serialization.PublicFormat.SubjectPublicKeyInfo\n",
        "    )\n",
        "\n",
        "    return private_pem, public_pem\n",
        "\n",
        "#generate single-input single-output (SISO) transaction\n",
        "def create_transaction(sender_private_key_pem, sender_public_key_pem, receiver_public_key_pem, amount):\n",
        "    sender_private_key = serialization.load_pem_private_key(sender_private_key_pem, password=None)\n",
        "    #load sender's private key\n",
        "\n",
        "    #transaction data\n",
        "    data = {\n",
        "        'amount': amount,\n",
        "        'sender': sender_public_key_pem.decode('utf-8'),\n",
        "        'receiver': receiver_public_key_pem.decode('utf-8')\n",
        "    }\n",
        "\n",
        "    #calculate the hash of transaction data as transaction ID\n",
        "    transaction_id = hashlib.sha256(json.dumps(data).encode('utf-8')).hexdigest()\n",
        "\n",
        "    #sign\n",
        "    signature = sender_private_key.sign(\n",
        "        json.dumps(data).encode('utf-8'),\n",
        "        padding.PSS(\n",
        "            mgf=padding.MGF1(hashes.SHA256()),\n",
        "            salt_length=padding.PSS.MAX_LENGTH\n",
        "        ),\n",
        "        hashes.SHA256()\n",
        "    )\n",
        "\n",
        "    #finish create\n",
        "    transaction = {\n",
        "        'transaction_id': transaction_id,\n",
        "        'data': data,\n",
        "        'signature': signature.hex()\n",
        "    }\n",
        "\n",
        "    return transaction"
      ]
    },
    {
      "cell_type": "markdown",
      "metadata": {
        "id": "4g8MZCxWjFml"
      },
      "source": [
        "### 4.2 Verifiable Merkle Tree"
      ]
    },
    {
      "cell_type": "code",
      "execution_count": 8,
      "metadata": {
        "id": "exzkojwcjFml"
      },
      "outputs": [],
      "source": [
        "def sha256_hash(data):\n",
        "    return hashlib.sha256(data.encode('utf-8')).hexdigest()\n",
        "\n",
        "def build_merkle_tree(transactions):\n",
        "    if len(transactions) == 1:\n",
        "        return transactions[0]\n",
        "\n",
        "    new_level = []\n",
        "    for i in range(0, len(transactions) - 1, 2):\n",
        "        # Use transaction_id for hashing\n",
        "        combined = transactions[i]['transaction_id'] + transactions[i + 1]['transaction_id']\n",
        "        new_hash = sha256_hash(combined)\n",
        "        new_level.append({'transaction_id': new_hash})\n",
        "\n",
        "    if len(transactions) % 2 != 0:\n",
        "        new_level.append({'transaction_id': transactions[-1]['transaction_id']})\n",
        "\n",
        "    return build_merkle_tree(new_level)\n",
        "\n",
        "def get_merkle_root(transactions):\n",
        "    if len(transactions) == 0:\n",
        "        return \"\"\n",
        "    return build_merkle_tree(transactions)['transaction_id']\n",
        "\n",
        "def verify_merkle_proof(transaction, proof, merkle_root):\n",
        "    current_hash = transaction['transaction_id']\n",
        "    for p in proof:\n",
        "        if p['position'] == 'left':\n",
        "            current_hash = sha256_hash(p['hash'] + current_hash)\n",
        "        else:\n",
        "            current_hash = sha256_hash(current_hash + p['hash'])\n",
        "    return current_hash == merkle_root"
      ]
    },
    {
      "cell_type": "markdown",
      "metadata": {
        "id": "fOh63muyjFmm"
      },
      "source": [
        "### 4.3 Construction of Blockchain"
      ]
    },
    {
      "cell_type": "code",
      "execution_count": 9,
      "metadata": {
        "id": "ZXI06LPbjFmn"
      },
      "outputs": [],
      "source": [
        "def create_block(previous_hash=None, transactions=[], target=0, nonce=0):\n",
        "\n",
        "    if previous_hash is None: # If there is no previous hash\n",
        "        previous_hash = '0' * 64\n",
        "\n",
        "    merkle_root = '0' * 64 # If there are no trasactions in the current block\n",
        "\n",
        "    if len(transactions): # If there are trasactions in the current block\n",
        "        merkle_root = get_merkle_root(transactions)\n",
        "\n",
        "    timestamp = hex(int(time.time())).replace('0x', '').replace('-', '').zfill(8)\n",
        "\n",
        "    target = hex(target).replace('0x', '').replace('-', '').zfill(8)\n",
        "\n",
        "    nonce = hex(nonce).replace('0x', '').replace('-', '').zfill(8)\n",
        "\n",
        "    header = {\n",
        "        'previous_hash': previous_hash, # 32 bytes\n",
        "        'merkle_root': merkle_root, # 32 bytes\n",
        "        'timestamp': timestamp, # 4 bytes\n",
        "        'target': target, # 4 bytes\n",
        "        'nonce': nonce # 4 bytes\n",
        "    }\n",
        "\n",
        "    number_of_transactions = hex(len(transactions)).replace('0x', '').replace('-', '').zfill(2)\n",
        "\n",
        "    block = {\n",
        "        'header': header,\n",
        "        'number_of_transactions': number_of_transactions, # 1 byte\n",
        "        'transactions': transactions\n",
        "    }\n",
        "\n",
        "    block['header']['current_hash'] = sha256_hash(str(header))\n",
        "\n",
        "    return block"
      ]
    },
    {
      "cell_type": "code",
      "execution_count": 10,
      "metadata": {
        "id": "gUMdlEjbjFmo"
      },
      "outputs": [],
      "source": [
        "def print_block(block):\n",
        "\n",
        "    print(\"Block Header:\\n\")\n",
        "    for k, v in block['header'].items():\n",
        "        print(f\"{k}: {v}\")\n",
        "    print()\n",
        "\n",
        "    print(\"\\nNumber of Transactions:\\n\")\n",
        "    print(f\"number_of_transactions: {block['number_of_transactions']}\")\n",
        "    print()\n",
        "\n",
        "    print(\"\\nTransactions in the Block:\\n\")\n",
        "    for transaction in block['transactions']:\n",
        "        for k, v in transaction.items():\n",
        "            print(f\"{k}: {v}\")\n",
        "        print()"
      ]
    },
    {
      "cell_type": "markdown",
      "metadata": {
        "id": "qmKWK6DzjFmq"
      },
      "source": [
        "### 4.4 Mining a block and 4.5 Integrity Verification"
      ]
    },
    {
      "cell_type": "code",
      "execution_count": 11,
      "metadata": {
        "id": "QXcYbhJbCBTT"
      },
      "outputs": [],
      "source": [
        "class BlockChain:\n",
        "\n",
        "    def __init__(self):\n",
        "        self.chain = []\n",
        "        self.target = 5\n",
        "\n",
        "    def mine_block(self, transactions):\n",
        "        nonce = 0\n",
        "        start = time.time()\n",
        "        block = create_block(self.chain[-1]['header']['current_hash'] if self.chain else None, transactions=transactions, target=self.target, nonce=nonce)\n",
        "        while block['header']['current_hash'][0:self.target] != '0' * self.target:\n",
        "            nonce += 1\n",
        "            block = create_block(self.chain[-1]['header']['current_hash'] if self.chain else None, transactions=transactions, target=self.target, nonce=nonce)\n",
        "        used_time = time.time() - start\n",
        "        return block, used_time\n",
        "\n",
        "    def change_target(self, time):\n",
        "      # arrage target difficulties according to the time used in the mining block\n",
        "        if time >= 15:\n",
        "            self.target = random.randint(1, self.target)\n",
        "        elif time < 5:\n",
        "            self.target = random.randint(self.target, 5)\n",
        "\n",
        "    def add_block2chain(self, transactions, dynamic=False):\n",
        "        mined_block, time = self.mine_block(transactions)\n",
        "        self.chain.append(mined_block)\n",
        "        if dynamic:\n",
        "          self.change_target(time)\n",
        "\n",
        "    def print_chain(self):\n",
        "        print(f'There are {len(self.chain)} blocks in the chain. ')\n",
        "        print(f'Here is the details : ')\n",
        "        for i in range (len(self.chain)):\n",
        "            print(f'Block {i}')\n",
        "            print_block(self.chain[i])\n",
        "\n",
        "### 4.5 Integrity Verification ###\n",
        "\n",
        "    def is_chain_valid(self):\n",
        "        for i in range(1, len(self.chain)):\n",
        "            current_block = self.chain[i]\n",
        "            prev_block = self.chain[i - 1]\n",
        "\n",
        "            # Verify block hash link\n",
        "            if current_block['header']['previous_hash'] != prev_block['header']['current_hash']:\n",
        "                print(f\"Block {i} has invalid previous hash linkage\")\n",
        "                return False\n",
        "\n",
        "            # Verify the current hash\n",
        "            raw_header = {\n",
        "                'previous_hash': current_block['header']['previous_hash'],\n",
        "                'merkle_root': current_block['header']['merkle_root'],\n",
        "                'timestamp': current_block['header']['timestamp'],\n",
        "                'target': current_block['header']['target'],\n",
        "                'nonce': current_block['header']['nonce']\n",
        "            }\n",
        "            computed_hash = sha256_hash(str(raw_header))\n",
        "            if computed_hash != current_block['header']['current_hash']:\n",
        "                print(f\"Block {i} has invalid current hash\")\n",
        "                return False\n",
        "            target = int(current_block['header']['target'], base=16)\n",
        "            if target and current_block['header']['current_hash'][0:target] != '0' * target:\n",
        "                print(f\"Block {i} has invalid current hash\")\n",
        "                return False\n",
        "\n",
        "            # Verify Merkle tree root\n",
        "            current_merkle = get_merkle_root(current_block['transactions'])\n",
        "            if current_merkle != current_block['header']['merkle_root']:\n",
        "                print(f\"Block {i} has invalid Merkle root\")\n",
        "                return False\n",
        "\n",
        "            # Verify the number of transactions\n",
        "            if len(current_block['transactions']) != int(current_block['number_of_transactions'], base=16):\n",
        "                print(f\"Block {i} has invalid number of transactions\")\n",
        "                return False\n",
        "\n",
        "            # Verify transaction signature\n",
        "            for tx in current_block['transactions']:\n",
        "                try:\n",
        "                    pub_key = serialization.load_pem_public_key(\n",
        "                        tx['data']['sender'].encode('utf-8')\n",
        "                    )\n",
        "\n",
        "                    # Construct signature (must be exactly the same as when signing)\n",
        "                    data_str = json.dumps(tx['data']).encode('utf-8')  # Maintain consistency in sorting and encoding\n",
        "                    signature = bytes.fromhex(tx['signature'])\n",
        "\n",
        "                    pub_key.verify(\n",
        "                        signature,\n",
        "                        data_str,\n",
        "                        padding.PSS(\n",
        "                            mgf=padding.MGF1(hashes.SHA256()),\n",
        "                            salt_length=padding.PSS.MAX_LENGTH\n",
        "                        ),\n",
        "                        hashes.SHA256()\n",
        "                    )\n",
        "                except Exception as e:\n",
        "                    print(f\"Transaction {tx['transaction_id']} verification failed: {str(e)}\")\n",
        "                    return False\n",
        "        return True"
      ]
    },
    {
      "cell_type": "markdown",
      "metadata": {
        "id": "ZsqjIgYUCKTx"
      },
      "source": [
        "\n",
        "### 4.5.1 Integrity Verification\n"
      ]
    },
    {
      "cell_type": "code",
      "execution_count": 12,
      "metadata": {
        "colab": {
          "base_uri": "https://localhost:8080/"
        },
        "id": "jBMjFT75CBTU",
        "outputId": "d312bbe4-8f46-414e-a321-dda98a9a8bb1"
      },
      "outputs": [
        {
          "name": "stdout",
          "output_type": "stream",
          "text": [
            "=== Test 1 - Original chain verification ===\n",
            "The validity of blockchain: True\n",
            "\n",
            "=== Test 2 - Current Hash tampering test ===\n",
            "Block 1 has invalid current hash\n",
            "Validity after tampering: False\n",
            "\n",
            "=== Test 3 - Merkle tree root tampering test ===\n",
            "Block 1 has invalid current hash\n",
            "Validity after tampering: False\n",
            "\n",
            "=== Test 4 - Transaction Signature Tampering Test ===\n",
            "Transaction 397e9710a152e4b20a22d12aaa634a0901b80216bed8f1815162cdef95d07ada verification failed: \n",
            "Validity after tampering: False\n",
            "\n",
            "=== Test 5 - Recovery verification ===\n",
            "Validity after recovery: True\n"
          ]
        }
      ],
      "source": [
        "# test codes\n",
        "\n",
        "if __name__ == \"__main__\":\n",
        "    # Initialize blockchain\n",
        "    bc = BlockChain()\n",
        "\n",
        "    # ================ Generate 3 different blocks ================\n",
        "    for _ in range(3):\n",
        "        # Generate new transaction every time\n",
        "        new_transactions = []\n",
        "        for __ in range(random.randint(1,4)):  # Random 2 - 4 transactions\n",
        "            sk, pk = create_account()\n",
        "            rk, rp = create_account()\n",
        "            tx = create_transaction(sk, pk, rp, random.randint(1,100))  # Random amount\n",
        "            new_transactions.append(tx)\n",
        "        bc.add_block2chain(new_transactions)  # Add new block\n",
        "\n",
        "    # ================ Test 1: Original chain verification ================\n",
        "    print(\"=== Test 1 - Original chain verification ===\")\n",
        "    print(\"The validity of blockchain:\", bc.is_chain_valid())  # Should return True\n",
        "\n",
        "    # ================ Test 2: Hash value tampering test ================\n",
        "    print(\"\\n=== Test 2 - Current Hash tampering test ===\")\n",
        "    original_hash = bc.chain[1]['header']['current_hash']\n",
        "    bc.chain[1]['header']['current_hash'] = \"0000fake_hash\"  # tampering hash\n",
        "    print(\"Validity after tampering:\", bc.is_chain_valid())  # Should print \"invalid current hash\"\n",
        "    bc.chain[1]['header']['current_hash'] = original_hash  # Recover the current hash\n",
        "\n",
        "    # ================ Test 3: Merkle tree root tampering test ================\n",
        "    print(\"\\n=== Test 3 - Merkle tree root tampering test ===\")\n",
        "    target_block_idx = 1\n",
        "    # Verify if there are transactions in the target block\n",
        "    assert len(bc.chain[target_block_idx]['transactions']) > 0, \"Must select a block with transactions\"\n",
        "    original_merkle = bc.chain[target_block_idx]['header']['merkle_root']\n",
        "    bc.chain[target_block_idx]['header']['merkle_root'] = \"f\"*64\n",
        "    print(\"Validity after tampering:\", bc.is_chain_valid())  # Should print \"invalid Merkle root\"\n",
        "    bc.chain[target_block_idx]['header']['merkle_root'] = original_merkle\n",
        "\n",
        "    # ================ Test 4: Transaction Signature Tampering Test ================\n",
        "    print(\"\\n=== Test 4 - Transaction Signature Tampering Test ===\")\n",
        "    tampered_block = bc.chain[2]\n",
        "    tampered_tx = tampered_block['transactions'][0]\n",
        "    original_amount = tampered_tx['data']['amount']\n",
        "    tampered_tx['data']['amount'] = 999  # Modifying the amount and damaging the signature\n",
        "    print(\"Validity after tampering:\", bc.is_chain_valid())  # Should print \"Verification failed\"\n",
        "    tampered_tx['data']['amount'] = original_amount  # Recover the amount\n",
        "\n",
        "    # ================ Test 5: Recovery verification ================\n",
        "    print(\"\\n=== Test 5 - Recovery verification ===\")\n",
        "    print(\"Validity after recovery:\", bc.is_chain_valid())  # Should return True"
      ]
    },
    {
      "cell_type": "markdown",
      "metadata": {
        "id": "tzy9QoJnQt60"
      },
      "source": [
        "###4.5.2 System Verification"
      ]
    }
  ],
  "metadata": {
    "colab": {
      "provenance": []
    },
    "kernelspec": {
      "display_name": "Python 3",
      "language": "python",
      "name": "python3"
    },
    "language_info": {
      "codemirror_mode": {
        "name": "ipython",
        "version": 3
      },
      "file_extension": ".py",
      "mimetype": "text/x-python",
      "name": "python",
      "nbconvert_exporter": "python",
      "pygments_lexer": "ipython3",
      "version": "3.11.9"
    }
  },
  "nbformat": 4,
  "nbformat_minor": 0
}
